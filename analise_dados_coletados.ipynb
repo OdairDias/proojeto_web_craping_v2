{
 "cells": [
  {
   "cell_type": "code",
   "execution_count": 2,
   "metadata": {},
   "outputs": [
    {
     "data": {
      "text/html": [
       "<div>\n",
       "<style scoped>\n",
       "    .dataframe tbody tr th:only-of-type {\n",
       "        vertical-align: middle;\n",
       "    }\n",
       "\n",
       "    .dataframe tbody tr th {\n",
       "        vertical-align: top;\n",
       "    }\n",
       "\n",
       "    .dataframe thead th {\n",
       "        text-align: right;\n",
       "    }\n",
       "</style>\n",
       "<table border=\"1\" class=\"dataframe\">\n",
       "  <thead>\n",
       "    <tr style=\"text-align: right;\">\n",
       "      <th></th>\n",
       "      <th>Produto</th>\n",
       "      <th>Preço produto</th>\n",
       "      <th>Link produto</th>\n",
       "    </tr>\n",
       "  </thead>\n",
       "  <tbody>\n",
       "    <tr>\n",
       "      <th>0</th>\n",
       "      <td>Ar condicionado Philco  split  frio 9000 BTU  ...</td>\n",
       "      <td>1.699,72</td>\n",
       "      <td>https://www.mercadolivre.com.br/ar-condicionad...</td>\n",
       "    </tr>\n",
       "    <tr>\n",
       "      <th>1</th>\n",
       "      <td>Ar condicionado Springer Midea de  janela  fri...</td>\n",
       "      <td>1.699,99</td>\n",
       "      <td>https://www.mercadolivre.com.br/ar-condicionad...</td>\n",
       "    </tr>\n",
       "    <tr>\n",
       "      <th>2</th>\n",
       "      <td>Ar condicionado Gree Eco Garden  split inverte...</td>\n",
       "      <td>2.470</td>\n",
       "      <td>https://www.mercadolivre.com.br/ar-condicionad...</td>\n",
       "    </tr>\n",
       "    <tr>\n",
       "      <th>3</th>\n",
       "      <td>Ar Condicionado LG Cool Split Inverter Frio/qu...</td>\n",
       "      <td>1.099,60</td>\n",
       "      <td>https://produto.mercadolivre.com.br/MLB-313735...</td>\n",
       "    </tr>\n",
       "    <tr>\n",
       "      <th>4</th>\n",
       "      <td>Ar condicionado Springer Midea Airvolution  sp...</td>\n",
       "      <td>5.094,44</td>\n",
       "      <td>https://www.mercadolivre.com.br/ar-condicionad...</td>\n",
       "    </tr>\n",
       "  </tbody>\n",
       "</table>\n",
       "</div>"
      ],
      "text/plain": [
       "                                             Produto Preço produto  \\\n",
       "0  Ar condicionado Philco  split  frio 9000 BTU  ...      1.699,72   \n",
       "1  Ar condicionado Springer Midea de  janela  fri...      1.699,99   \n",
       "2  Ar condicionado Gree Eco Garden  split inverte...         2.470   \n",
       "3  Ar Condicionado LG Cool Split Inverter Frio/qu...      1.099,60   \n",
       "4  Ar condicionado Springer Midea Airvolution  sp...      5.094,44   \n",
       "\n",
       "                                        Link produto  \n",
       "0  https://www.mercadolivre.com.br/ar-condicionad...  \n",
       "1  https://www.mercadolivre.com.br/ar-condicionad...  \n",
       "2  https://www.mercadolivre.com.br/ar-condicionad...  \n",
       "3  https://produto.mercadolivre.com.br/MLB-313735...  \n",
       "4  https://www.mercadolivre.com.br/ar-condicionad...  "
      ]
     },
     "execution_count": 2,
     "metadata": {},
     "output_type": "execute_result"
    }
   ],
   "source": [
    "import pandas as pd\n",
    "dados_importados=pd.read_excel('resultado_pesquisa.xlsx')\n",
    "dados_importados.head()"
   ]
  },
  {
   "cell_type": "code",
   "execution_count": 4,
   "metadata": {},
   "outputs": [
    {
     "name": "stdout",
     "output_type": "stream",
     "text": [
      "<class 'pandas.core.frame.DataFrame'>\n",
      "RangeIndex: 500 entries, 0 to 499\n",
      "Data columns (total 3 columns):\n",
      " #   Column         Non-Null Count  Dtype \n",
      "---  ------         --------------  ----- \n",
      " 0   Produto        500 non-null    object\n",
      " 1   Preço produto  500 non-null    object\n",
      " 2   Link produto   500 non-null    object\n",
      "dtypes: object(3)\n",
      "memory usage: 11.8+ KB\n"
     ]
    }
   ],
   "source": [
    "dados_importados.shape\n",
    "dados_importados.info()"
   ]
  }
 ],
 "metadata": {
  "kernelspec": {
   "display_name": "Python 3",
   "language": "python",
   "name": "python3"
  },
  "language_info": {
   "codemirror_mode": {
    "name": "ipython",
    "version": 3
   },
   "file_extension": ".py",
   "mimetype": "text/x-python",
   "name": "python",
   "nbconvert_exporter": "python",
   "pygments_lexer": "ipython3",
   "version": "3.11.0 (main, Oct 24 2022, 18:26:48) [MSC v.1933 64 bit (AMD64)]"
  },
  "orig_nbformat": 4,
  "vscode": {
   "interpreter": {
    "hash": "ebfc0a8d552866b0d59eba665220a57de3bc06f3ac643b8bef38dd8f66781fdd"
   }
  }
 },
 "nbformat": 4,
 "nbformat_minor": 2
}
